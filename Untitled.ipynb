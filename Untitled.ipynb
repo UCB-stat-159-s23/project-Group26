{
 "cells": [
  {
   "cell_type": "code",
   "execution_count": null,
   "id": "661948f5-d24e-4ae3-870a-9b65433a9f0d",
   "metadata": {},
   "outputs": [],
   "source": [
    "import pandas as pd\n",
    "import numpy as np\n",
    "import matplotlib.pyplot as plt\n",
    "import seaborn as sns"
   ]
  },
  {
   "cell_type": "markdown",
   "id": "68065424-e7ff-4b37-acb6-03e2564b2c89",
   "metadata": {
    "user_expressions": []
   },
   "source": [
    "Carrie's Notebook"
   ]
  },
  {
   "cell_type": "markdown",
   "id": "6a308113-9578-4bd3-aa7f-c25dff7234a3",
   "metadata": {},
   "source": [
    "Licensing Notes: \n"
   ]
  }
 ],
 "metadata": {
  "kernelspec": {
   "display_name": "Python 3 (ipykernel)",
   "language": "python",
   "name": "python3"
  },
  "language_info": {
   "codemirror_mode": {
    "name": "ipython",
    "version": 3
   },
   "file_extension": ".py",
   "mimetype": "text/x-python",
   "name": "python",
   "nbconvert_exporter": "python",
   "pygments_lexer": "ipython3",
   "version": "3.10.8"
  }
 },
 "nbformat": 4,
 "nbformat_minor": 5
}
