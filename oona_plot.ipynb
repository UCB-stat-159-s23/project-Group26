{
 "cells": [
  {
   "cell_type": "code",
   "execution_count": 1,
   "id": "6ba8e6a2-1d9e-41d0-9f0c-26ad96e64086",
   "metadata": {},
   "outputs": [],
   "source": [
    "import pandas as pd\n",
    "import numpy as np\n",
    "import matplotlib.pyplot as plt\n",
    "import matplotlib\n",
    "import seaborn as sns\n",
    "import folium\n",
    "import re\n",
    "import json\n",
    "# utils.py\n",
    "from tools import utils as ul"
   ]
  },
  {
   "cell_type": "code",
   "execution_count": 2,
   "id": "13d4d172-04ae-43dd-8f5d-b9b0d05184c1",
   "metadata": {},
   "outputs": [],
   "source": [
    "evict = pd.read_csv(\"data/Eviction_Notices.csv\", engine='python', on_bad_lines='skip')"
   ]
  },
  {
   "cell_type": "code",
   "execution_count": 3,
   "id": "b1cb0cf4-8d7f-4dba-bc26-3e25002f5d6e",
   "metadata": {},
   "outputs": [],
   "source": [
    "df = evict[['Eviction ID', 'Address', 'Eviction Notice Source Zipcode', 'Neighborhoods - Analysis Boundaries']].dropna()\n",
    "df = df.rename({'Neighborhoods - Analysis Boundaries': 'Neighborhoods', 'Eviction Notice Source Zipcode': 'Zip'}, axis=1)"
   ]
  },
  {
   "cell_type": "code",
   "execution_count": 4,
   "id": "2196c79d-e808-404c-a9b6-52253d451408",
   "metadata": {},
   "outputs": [],
   "source": [
    "df['Zip'] = df['Zip'].astype(np.int64)\n",
    "counts_df = df[['Zip']].value_counts().reset_index(name='counts')\n",
    "counts_df_clean = counts_df[counts_df['Zip'] > 90000]"
   ]
  },
  {
   "cell_type": "code",
   "execution_count": 7,
   "id": "b5400cd3-a2d1-472b-83de-14e58a4fe1da",
   "metadata": {},
   "outputs": [
    {
     "data": {
      "text/plain": [
       "159085"
      ]
     },
     "execution_count": 7,
     "metadata": {},
     "output_type": "execute_result"
    }
   ],
   "source": [
    "with open('/home/jovyan/sf_geojson/SanFrancisco.Neighborhoods.json', 'r') as jsonFile:\n",
    "    data = json.load(jsonFile)\n",
    "tmp = data\n",
    "\n",
    "# remove ZIP codes not in our dataset\n",
    "geozips = []\n",
    "for i in range(len(tmp['features'])):\n",
    "    if tmp['features'][i]['properties']['id'] in list(df['Zip'].unique()):\n",
    "        geozips.append(tmp['features'][i])\n",
    "\n",
    "# creating new JSON object\n",
    "new_json = dict.fromkeys(['type','features'])\n",
    "new_json['type'] = 'FeatureCollection'\n",
    "new_json['features'] = geozips\n",
    "\n",
    "# save JSON object as updated-file\n",
    "open(\"/home/jovyan/sf_geojson/updated-file.json\", \"w\").write(\n",
    "    json.dumps(new_json, sort_keys=True, indent=4, separators=(',', ': '))\n",
    ")"
   ]
  },
  {
   "cell_type": "code",
   "execution_count": 20,
   "id": "23ed145c-9ed0-4572-b9ed-a9030950b1b4",
   "metadata": {},
   "outputs": [],
   "source": [
    "def create_map(df, zips, feature, title_desc = ''):\n",
    "    # df = main table/data frame we read from (pandas DataFrame)\n",
    "    # zips = column name where ZIP codes are (string)\n",
    "    # mapped_feature = column name for feature we want to visualize (string)\n",
    "    # add_text = any additional commentary to be added in the map legend (string)\n",
    "\n",
    "\n",
    "    # reading of the updated GeoJSON file\n",
    "    sf_geo = r'/home/jovyan/sf_geojson/updated-file.json'\n",
    "    # initiating a Folium map with LA's longitude and latitude\n",
    "    m = folium.Map(location = [37.7749, -122.4194], zoom_start = 11)\n",
    "    # creating a choropleth map\n",
    "    m.choropleth(\n",
    "        geo_data = sf_geo,\n",
    "        fill_opacity = 0.7,\n",
    "        line_opacity = 0.2,\n",
    "        data = df,\n",
    "        # refers to which key within the GeoJSON to map the ZIP code to\n",
    "        key_on = 'feature.properties.id',\n",
    "        # first element contains location information, second element contains feature of interest\n",
    "        columns = [zips, feature],\n",
    "        fill_color = 'RdYlGn',\n",
    "        legend_name = (' ').join(feature.split('_')).title() + ' ' + title_desc + ' Across SF'\n",
    "    )\n",
    "    folium.LayerControl().add_to(m)\n",
    "    # save map with filename based on the feature of interest\n",
    "    m.save(outfile = feature + '_map.html')"
   ]
  },
  {
   "cell_type": "code",
   "execution_count": 19,
   "id": "b3efc801-7e89-4fbf-b156-eedeb585f391",
   "metadata": {},
   "outputs": [
    {
     "name": "stderr",
     "output_type": "stream",
     "text": [
      "/srv/conda/envs/notebook/lib/python3.10/site-packages/folium/folium.py:465: FutureWarning: The choropleth  method has been deprecated. Instead use the new Choropleth class, which has the same arguments. See the example notebook 'GeoJSON_and_choropleth' for how to do this.\n",
      "  warnings.warn(\n"
     ]
    }
   ],
   "source": [
    "create_map(counts_df_clean, zips = 'Zip', feature = 'counts')"
   ]
  },
  {
   "cell_type": "code",
   "execution_count": null,
   "id": "63778539-6c32-4f80-8754-b7ee7adb7e9f",
   "metadata": {},
   "outputs": [],
   "source": []
  }
 ],
 "metadata": {
  "kernelspec": {
   "display_name": "Python 3 (ipykernel)",
   "language": "python",
   "name": "python3"
  },
  "language_info": {
   "codemirror_mode": {
    "name": "ipython",
    "version": 3
   },
   "file_extension": ".py",
   "mimetype": "text/x-python",
   "name": "python",
   "nbconvert_exporter": "python",
   "pygments_lexer": "ipython3",
   "version": "3.10.8"
  }
 },
 "nbformat": 4,
 "nbformat_minor": 5
}
